{
 "cells": [
  {
   "cell_type": "markdown",
   "metadata": {},
   "source": [
    "# CSCI 5454 Homework 3 FFT divide and conquer\n",
    "\n",
    "09/20/2024\n",
    "Jake Krol"
   ]
  },
  {
   "cell_type": "code",
   "execution_count": 5,
   "metadata": {},
   "outputs": [],
   "source": [
    "import math\n",
    "import numpy as np"
   ]
  },
  {
   "cell_type": "code",
   "execution_count": 6,
   "metadata": {},
   "outputs": [
    {
     "name": "stdout",
     "output_type": "stream",
     "text": [
      "[ 1.+0.j -1.+0.j]\n",
      "[ 2.+0.j -1.-1.j  0.+0.j -1.+1.j]\n",
      "[ 4.+0.j     -1.-2.4142j  0.+0.j     -1.-0.4142j  0.+0.j     -1.+0.4142j\n",
      "  0.+0.j     -1.+2.4142j]\n"
     ]
    }
   ],
   "source": [
    "def rou(n,k):\n",
    "    # or just use math.e**((2j * math.pi * k)/ n)\n",
    "    if k == 0:\n",
    "        return 1\n",
    "    real = round(np.cos((2 * math.pi * k) / n), 4)\n",
    "    img = round(np.sin((2 * math.pi * k) / n), 4)\n",
    "    z = complex(real, img)\n",
    "    return z\n",
    "def dft_matrix(a):\n",
    "    n = len(a)\n",
    "    M = np.zeros(shape=[n,n], dtype=complex)\n",
    "    for k in range(n):\n",
    "        for j in range(n):\n",
    "            M[k,j] = rou(n, k*j)\n",
    "    return M\n",
    "def dft(a):\n",
    "    M = dft_matrix(a)\n",
    "    return M @ a\n",
    "print(\n",
    "    dft(np.array([0,1])),\n",
    "    dft(np.array([0,0,1,1])),\n",
    "    dft(np.array([0,0,0,0,1,1,1,1])),\n",
    "    sep='\\n'\n",
    ")\n",
    "    "
   ]
  },
  {
   "cell_type": "code",
   "execution_count": 7,
   "metadata": {},
   "outputs": [
    {
     "data": {
      "text/plain": [
       "array([4.+0.j, 0.+0.j, 0.+0.j, 0.+0.j, 4.+0.j, 0.+0.j, 0.+0.j, 0.+0.j])"
      ]
     },
     "execution_count": 7,
     "metadata": {},
     "output_type": "execute_result"
    }
   ],
   "source": [
    "# p = 2, n = 8\n",
    "dft(np.array([1, 0, 1, 0, 1, 0, 1, 0]))"
   ]
  },
  {
   "cell_type": "code",
   "execution_count": 8,
   "metadata": {},
   "outputs": [
    {
     "data": {
      "text/plain": [
       "array([3.+0.j, 0.+0.j, 0.+0.j, 3.+0.j, 0.+0.j, 0.+0.j, 3.+0.j, 0.+0.j,\n",
       "       0.+0.j])"
      ]
     },
     "execution_count": 8,
     "metadata": {},
     "output_type": "execute_result"
    }
   ],
   "source": [
    "# p = 3, n = 9\n",
    "dft(np.array([1, 0, 0, 1, 0, 0, 1, 0, 0 ]))"
   ]
  },
  {
   "cell_type": "code",
   "execution_count": 9,
   "metadata": {},
   "outputs": [
    {
     "data": {
      "text/plain": [
       "array([3.+0.j, 0.+0.j, 0.+0.j, 3.+0.j, 0.+0.j, 0.+0.j, 3.+0.j, 0.+0.j,\n",
       "       0.+0.j, 3.+0.j, 0.+0.j, 0.+0.j, 3.+0.j, 0.+0.j, 0.+0.j])"
      ]
     },
     "execution_count": 9,
     "metadata": {},
     "output_type": "execute_result"
    }
   ],
   "source": [
    "# a: n=15, p=5\n",
    "dft(np.array([1, 0, 0, 0,0, 1, 0, 0, 0, 0,1,0,0,0, 0 ]))"
   ]
  },
  {
   "cell_type": "code",
   "execution_count": 10,
   "metadata": {},
   "outputs": [
    {
     "name": "stdout",
     "output_type": "stream",
     "text": [
      "[4.+0.j 0.+0.j 0.+0.j 0.+0.j 4.+0.j 0.+0.j 0.+0.j 0.+0.j]\n",
      "[3.+0.j 0.+0.j 0.+0.j 3.+0.j 0.+0.j 0.+0.j 3.+0.j 0.+0.j 0.+0.j]\n"
     ]
    }
   ],
   "source": [
    "print(\n",
    "    dft(np.array([1,0,1,0,1,0,1,0])),\n",
    "    dft(np.array([1,0,0,1,0,0,1,0,0])),\n",
    "    sep='\\n'\n",
    ")"
   ]
  },
  {
   "cell_type": "markdown",
   "metadata": {},
   "source": [
    "## Q3"
   ]
  },
  {
   "cell_type": "markdown",
   "metadata": {},
   "source": [
    "### FFT 3-way divide and conquer"
   ]
  },
  {
   "cell_type": "code",
   "execution_count": 13,
   "metadata": {},
   "outputs": [
    {
     "data": {
      "text/plain": [
       "[(15+0j),\n",
       " (-2.819077862357723+6.82374778540538j),\n",
       " (2.2981333293569315-3.869324526368755j),\n",
       " (6.000000000000002+5.196152422706632j),\n",
       " (-4.440892098500626e-16+1.9409616973091375j),\n",
       " (-2.2981333293569346-3.8693245263687523j),\n",
       " (5.9999999999999964-5.19615242270663j),\n",
       " (2.819077862357728+6.823747785405377j),\n",
       " (-5.551115123125783e-15-7.8498082153823825j)]"
      ]
     },
     "execution_count": 13,
     "metadata": {},
     "output_type": "execute_result"
    }
   ],
   "source": [
    "def fft_3(a,n):\n",
    "    if n == 1:\n",
    "        return a\n",
    "    C = [a[i] for i in range(0, n-2, 3)]\n",
    "    D = [a[i] for i in range(1, n-1, 3)]\n",
    "    E = [a[i] for i in range(2, n, 3)]\n",
    "    A_C = fft_3(C, n //3)\n",
    "    A_D = fft_3(D, n//3)\n",
    "    A_E = fft_3(E, n//3)\n",
    "    A = np.repeat(np.nan, n).tolist()\n",
    "    om1 = math.e**(2j * math.pi / 3)\n",
    "    om2 = math.e**(2j * math.pi * 2 / 3)\n",
    "    for l in range(0, n//3):\n",
    "        om = math.e**(2j * math.pi * l / n)\n",
    "        A[l] = A_C[l] + (om * A_D[l]) + ((om**2) * A_E[l])\n",
    "        A[l+(n//3)] = A_C[l] + (om1 * om * A_D[l]) + (om1 * (om**2) * A_E[l])\n",
    "        A[l+((2*n)//3)] = A_C[l] + (om2 * om * A_D[l]) + (om2 * (om**2) * A_E[l])\n",
    "    return A\n",
    "a = [3,1,1,3,1,1,3,1,1]\n",
    "n = len(a)\n",
    "fft_3(a,n)\n",
    "    "
   ]
  }
 ],
 "metadata": {
  "kernelspec": {
   "display_name": "Python 3 (ipykernel)",
   "language": "python",
   "name": "python3"
  },
  "language_info": {
   "codemirror_mode": {
    "name": "ipython",
    "version": 3
   },
   "file_extension": ".py",
   "mimetype": "text/x-python",
   "name": "python",
   "nbconvert_exporter": "python",
   "pygments_lexer": "ipython3",
   "version": "3.10.12"
  }
 },
 "nbformat": 4,
 "nbformat_minor": 2
}

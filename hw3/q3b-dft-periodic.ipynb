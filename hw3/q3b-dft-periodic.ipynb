{
 "cells": [
  {
   "cell_type": "code",
   "execution_count": 9,
   "metadata": {},
   "outputs": [],
   "source": [
    "import math\n",
    "import numpy as np\n"
   ]
  },
  {
   "cell_type": "code",
   "execution_count": 10,
   "metadata": {},
   "outputs": [
    {
     "data": {
      "text/plain": [
       "3.141592653589793"
      ]
     },
     "execution_count": 10,
     "metadata": {},
     "output_type": "execute_result"
    }
   ],
   "source": [
    "complex(0,2)\n",
    "math.pi"
   ]
  },
  {
   "cell_type": "code",
   "execution_count": 29,
   "metadata": {},
   "outputs": [
    {
     "name": "stdout",
     "output_type": "stream",
     "text": [
      "[ 1.+0.j -1.+0.j]\n",
      "[ 2.+0.j -1.-1.j  0.+0.j -1.+1.j]\n",
      "[ 4.+0.j     -1.-2.4142j  0.+0.j     -1.-0.4142j  0.+0.j     -1.+0.4142j\n",
      "  0.+0.j     -1.+2.4142j]\n"
     ]
    }
   ],
   "source": [
    "def rou(n,k):\n",
    "    #np.exp((complex(0,1) * math.pi * 2 * k) / n)\n",
    "    if k == 0:\n",
    "        return 1\n",
    "    real = round(np.cos((2 * math.pi * k) / n), 4)\n",
    "    img = round(np.sin((2 * math.pi * k) / n), 4)\n",
    "    z = complex(real, img)\n",
    "    return z\n",
    "\n",
    "def dft_matrix(a):\n",
    "    n = len(a)\n",
    "    M = np.zeros(shape=[n,n], dtype=complex)\n",
    "    for k in range(n):\n",
    "        for j in range(n):\n",
    "            M[k,j] = rou(n, k*j)\n",
    "    return M\n",
    "\n",
    "def dft(a):\n",
    "    M = dft_matrix(a)\n",
    "    return M @ a\n",
    "\n",
    "\n",
    "\n",
    "    return M\n",
    "print(\n",
    "    dft(np.array([0,1])),\n",
    "    dft(np.array([0,0,1,1])),\n",
    "    dft(np.array([0,0,0,0,1,1,1,1])),\n",
    "    sep='\\n'\n",
    "    )\n",
    "#z = rou(4, 3)\n",
    "#print(z.real, z.imag)\n",
    "    "
   ]
  },
  {
   "cell_type": "code",
   "execution_count": 30,
   "metadata": {},
   "outputs": [
    {
     "data": {
      "text/plain": [
       "array([4.+0.j, 0.+0.j, 0.+0.j, 0.+0.j, 4.+0.j, 0.+0.j, 0.+0.j, 0.+0.j])"
      ]
     },
     "execution_count": 30,
     "metadata": {},
     "output_type": "execute_result"
    }
   ],
   "source": [
    "# p = 2, n = 8\n",
    "dft(np.array([1, 0, 1, 0, 1, 0, 1, 0]))"
   ]
  },
  {
   "cell_type": "code",
   "execution_count": 31,
   "metadata": {},
   "outputs": [
    {
     "data": {
      "text/plain": [
       "array([3.+0.j, 0.+0.j, 0.+0.j, 3.+0.j, 0.+0.j, 0.+0.j, 3.+0.j, 0.+0.j,\n",
       "       0.+0.j])"
      ]
     },
     "execution_count": 31,
     "metadata": {},
     "output_type": "execute_result"
    }
   ],
   "source": [
    "# p = 3, n = 9\n",
    "dft(np.array([1, 0, 0, 1, 0, 0, 1, 0, 0 ]))"
   ]
  },
  {
   "cell_type": "code",
   "execution_count": 63,
   "metadata": {},
   "outputs": [
    {
     "data": {
      "text/plain": [
       "array([4., 0., 0., 0., 4., 0., 0., 0.])"
      ]
     },
     "execution_count": 63,
     "metadata": {},
     "output_type": "execute_result"
    }
   ],
   "source": [
    "# period of A seems equal to quotient\n",
    "def dft_periodic(n, p):\n",
    "    A = np.zeros(shape=[n])\n",
    "    q = int(n / p)\n",
    "    A[0] = q\n",
    "    j = 1\n",
    "    while j < (n/q):\n",
    "        A[j*q] = q\n",
    "        j += 1\n",
    "    return A\n",
    "\n",
    "dft_periodic(8,2)"
   ]
  },
  {
   "cell_type": "code",
   "execution_count": 66,
   "metadata": {},
   "outputs": [
    {
     "name": "stdout",
     "output_type": "stream",
     "text": [
      "[4.+0.j 0.+0.j 0.+0.j 0.+0.j 4.+0.j 0.+0.j 0.+0.j 0.+0.j]\n",
      "[3.+0.j 0.+0.j 0.+0.j 3.+0.j 0.+0.j 0.+0.j 3.+0.j 0.+0.j 0.+0.j]\n"
     ]
    }
   ],
   "source": [
    "print(\n",
    "    dft(np.array([1,0,1,0,1,0,1,0])),\n",
    "    dft(np.array([1,0,0,1,0,0,1,0,0])),\n",
    "    sep='\\n'\n",
    ")"
   ]
  },
  {
   "cell_type": "markdown",
   "metadata": {},
   "source": [
    "## Q3"
   ]
  },
  {
   "cell_type": "markdown",
   "metadata": {},
   "source": [
    "### Q3a"
   ]
  },
  {
   "cell_type": "code",
   "execution_count": 95,
   "metadata": {},
   "outputs": [
    {
     "name": "stdout",
     "output_type": "stream",
     "text": [
      "k: 2\n",
      "a [1, 0, 1, 0, 1, 0]\n"
     ]
    },
    {
     "data": {
      "text/plain": [
       "(array([1., 1.]), array([1., 1.]), array([1., 1.]))"
      ]
     },
     "execution_count": 95,
     "metadata": {},
     "output_type": "execute_result"
    }
   ],
   "source": [
    "def poly2trip(a):\n",
    "    n = len(a)\n",
    "    k = int(n / 3)\n",
    "    print('k:',k)\n",
    "    C = np.zeros([k])\n",
    "    D,E = C,C\n",
    "    j = 0\n",
    "    print('a', a)\n",
    "    while (j < k):\n",
    "        C[j] = a[j*k]\n",
    "        D[j] = a[(j*k)+1]\n",
    "        E[j] = a[(j*k)+2]\n",
    "        j +=1\n",
    "    return C, D, E\n",
    "\n",
    "poly2trip([1,0,1,0,1,0])"
   ]
  }
 ],
 "metadata": {
  "kernelspec": {
   "display_name": "Python 3 (ipykernel)",
   "language": "python",
   "name": "python3"
  },
  "language_info": {
   "codemirror_mode": {
    "name": "ipython",
    "version": 3
   },
   "file_extension": ".py",
   "mimetype": "text/x-python",
   "name": "python",
   "nbconvert_exporter": "python",
   "pygments_lexer": "ipython3",
   "version": "3.10.12"
  }
 },
 "nbformat": 4,
 "nbformat_minor": 2
}
